{
  "nbformat": 4,
  "nbformat_minor": 0,
  "metadata": {
    "colab": {
      "provenance": [],
      "authorship_tag": "ABX9TyOmWjku5iKvfA0aLhxt8lEK",
      "include_colab_link": true
    },
    "kernelspec": {
      "name": "python3",
      "display_name": "Python 3"
    },
    "language_info": {
      "name": "python"
    }
  },
  "cells": [
    {
      "cell_type": "markdown",
      "metadata": {
        "id": "view-in-github",
        "colab_type": "text"
      },
      "source": [
        "<a href=\"https://colab.research.google.com/github/jonathas12/python_Ciencia_Dados/blob/main/Atualiza%C3%A7%C3%A3o_Monet%C3%A1ria_IPCA.ipynb\" target=\"_parent\"><img src=\"https://colab.research.google.com/assets/colab-badge.svg\" alt=\"Open In Colab\"/></a>"
      ]
    },
    {
      "cell_type": "code",
      "source": [],
      "metadata": {
        "id": "OvkBQA33z6_c"
      },
      "execution_count": null,
      "outputs": []
    },
    {
      "cell_type": "markdown",
      "source": [
        "# **1. Atualização Monetária - Valores Finais**\n",
        "\n"
      ],
      "metadata": {
        "id": "3DPQ2m5GzqKa"
      }
    },
    {
      "cell_type": "code",
      "execution_count": 1,
      "metadata": {
        "colab": {
          "base_uri": "https://localhost:8080/"
        },
        "id": "WO6i79equVFD",
        "outputId": "2fdf068a-a6b2-4869-8fa8-2b602dbbff21"
      },
      "outputs": [
        {
          "output_type": "stream",
          "name": "stdout",
          "text": [
            "Buscando dados do IPCA entre 06/2024 e 05/2025...\n",
            "\n",
            "--- Resultado da Atualização Monetária ---\n",
            "Valor Original: R$ 493.72 em 06/2024\n",
            "Valor Atualizado para 05/2025: R$ 519.98\n",
            "Fator Acumulado: 1.0532\n",
            "Inflação Acumulada no Período: 5.32%\n"
          ]
        }
      ],
      "source": [
        "import requests\n",
        "import json\n",
        "\n",
        "def atualizar_valor_ipca(valor_original, data_inicial_str, data_final_str):\n",
        "    \"\"\"\n",
        "    Atualiza um valor monetário com base na variação do IPCA (série 433)\n",
        "    consultando a API de Séries Temporais do Banco Central do Brasil.\n",
        "\n",
        "    Args:\n",
        "        valor_original (float): O valor a ser atualizado.\n",
        "        data_inicial_str (str): A data inicial no formato 'MM/AAAA'.\n",
        "        data_final_str (str): A data final no formato 'MM/AAAA'.\n",
        "\n",
        "    Returns:\n",
        "        dict: Um dicionário com os resultados do cálculo, incluindo os dados mensais do IPCA.\n",
        "    \"\"\"\n",
        "    # 1. Converter as datas para o formato que a API do BCB espera (DD/MM/AAAA)\n",
        "    mes_inicio, ano_inicio = data_inicial_str.split('/')\n",
        "    mes_fim, ano_fim = data_final_str.split('/')\n",
        "    data_inicial_api = f\"01/{mes_inicio}/{ano_inicio}\"\n",
        "    data_final_api = f\"01/{mes_fim}/{ano_fim}\"\n",
        "\n",
        "    # 2. Montar a URL da API para a série do IPCA (código 433)\n",
        "    url_api = (\n",
        "        f\"https://api.bcb.gov.br/dados/serie/bcdata.sgs.433/dados?\"\n",
        "        f\"formato=json&dataInicial={data_inicial_api}&dataFinal={data_final_api}\"\n",
        "    )\n",
        "\n",
        "    print(f\"Buscando dados do IPCA entre {data_inicial_str} e {data_final_str}...\")\n",
        "\n",
        "    try:\n",
        "        # 3. Fazer a requisição à API\n",
        "        response = requests.get(url_api)\n",
        "        response.raise_for_status()  # Lança um erro se a requisição falhar (ex: status 404, 500)\n",
        "        dados_ipca = response.json()\n",
        "\n",
        "        if not dados_ipca:\n",
        "            print(\"A API não retornou dados para o período selecionado.\")\n",
        "            return None\n",
        "\n",
        "        # 4. Calcular o fator de correção acumulado\n",
        "        fator_acumulado = 1.0\n",
        "        for registro_mensal in dados_ipca:\n",
        "            variacao_percentual = float(registro_mensal['valor'])\n",
        "            fator_acumulado *= (1 + variacao_percentual / 100)\n",
        "\n",
        "        # 5. Calcular o valor final atualizado\n",
        "        valor_atualizado = valor_original * fator_acumulado\n",
        "\n",
        "        return {\n",
        "            \"valor_original\": valor_original,\n",
        "            \"data_inicial\": data_inicial_str,\n",
        "            \"data_final\": data_final_str,\n",
        "            \"fator_acumulado\": fator_acumulado,\n",
        "            \"inflacao_acumulada_percentual\": (fator_acumulado - 1) * 100,\n",
        "            \"valor_atualizado\": valor_atualizado,\n",
        "            \"dados_ipca_mensal\": dados_ipca # <-- Adicionado aqui\n",
        "        }\n",
        "\n",
        "    except requests.exceptions.RequestException as e:\n",
        "        print(f\"Erro ao conectar à API do Banco Central: {e}\")\n",
        "        return None\n",
        "    except json.JSONDecodeError:\n",
        "        print(\"Erro ao processar a resposta da API (não é um JSON válido).\")\n",
        "        return None\n",
        "\n",
        "\n",
        "# --- DADOS PARA O CÁLCULO ---\n",
        "valor_para_atualizar = 493.72\n",
        "data_inicio = \"06/2024\"\n",
        "data_fim = \"05/2025\" # A API pode não ter dados futuros, o ideal é usar a data atual ou passada.\n",
        "\n",
        "# --- EXECUÇÃO DA FUNÇÃO ---\n",
        "resultado = atualizar_valor_ipca(valor_para_atualizar, data_inicio, data_fim)\n",
        "\n",
        "# --- EXIBIÇÃO DO RESULTADO ---\n",
        "if resultado:\n",
        "    print(\"\\n--- Resultado da Atualização Monetária ---\")\n",
        "    print(f\"Valor Original: R$ {resultado['valor_original']:.2f} em {resultado['data_inicial']}\")\n",
        "    print(f\"Valor Atualizado para {resultado['data_final']}: R$ {resultado['valor_atualizado']:.2f}\")\n",
        "    print(f\"Fator Acumulado: {resultado['fator_acumulado']:.4f}\")\n",
        "    print(f\"Inflação Acumulada no Período: {resultado['inflacao_acumulada_percentual']:.2f}%\")"
      ]
    },
    {
      "cell_type": "markdown",
      "source": [
        "# **2. Atualização Monetária Mês a Mês**\n",
        "\n"
      ],
      "metadata": {
        "id": "rjp4REfJzcHT"
      }
    },
    {
      "cell_type": "code",
      "metadata": {
        "colab": {
          "base_uri": "https://localhost:8080/"
        },
        "id": "3134a330",
        "outputId": "a366b0f6-32db-4231-84b7-399007370804"
      },
      "source": [
        "import requests\n",
        "import pandas as pd\n",
        "from datetime import datetime\n",
        "\n",
        "def calcular_tabela_correcao_ipca(valor_original, data_inicial_str, data_final_str):\n",
        "    \"\"\"\n",
        "    Coleta os dados do IPCA (série 433) do Banco Central e cria uma tabela\n",
        "    detalhada com a correção monetária mês a mês.\n",
        "\n",
        "    Args:\n",
        "        valor_original (float): O valor a ser atualizado.\n",
        "        data_inicial_str (str): A data inicial no formato 'MM/AAAA'.\n",
        "        data_final_str (str): A data final no formato 'MM/AAAA'.\n",
        "\n",
        "    Returns:\n",
        "        pandas.DataFrame: Uma tabela com o detalhamento do cálculo mensal, ou None se falhar.\n",
        "    \"\"\"\n",
        "    # 1. Formatar as datas para a consulta na API\n",
        "    mes_inicio, ano_inicio = data_inicial_str.split('/')\n",
        "    mes_fim, ano_fim = data_final_str.split('/')\n",
        "    data_inicial_api = f\"01/{mes_inicio}/{ano_inicio}\"\n",
        "    data_final_api = f\"01/{mes_fim}/{ano_fim}\"\n",
        "\n",
        "    # 2. Montar a URL da API para a série do IPCA (código 433)\n",
        "    url_api = (\n",
        "        f\"https://api.bcb.gov.br/dados/serie/bcdata.sgs.433/dados?\"\n",
        "        f\"formato=json&dataInicial={data_inicial_api}&dataFinal={data_final_api}\"\n",
        "    )\n",
        "\n",
        "    print(f\"Buscando dados do IPCA entre {data_inicial_str} e {data_final_str}...\")\n",
        "\n",
        "    try:\n",
        "        # 3. Fazer a requisição à API e obter os dados\n",
        "        response = requests.get(url_api, timeout=10) # Adicionado timeout\n",
        "        response.raise_for_status()\n",
        "        dados_ipca = response.json()\n",
        "\n",
        "        if not dados_ipca:\n",
        "            print(\"Nenhum dado encontrado para o período especificado.\")\n",
        "            return None\n",
        "\n",
        "        # 4. Processar os dados e construir a tabela\n",
        "        historico_calculo = []\n",
        "        valor_acumulado = valor_original\n",
        "\n",
        "        for registro in dados_ipca:\n",
        "            data_mes = datetime.strptime(registro['data'], '%d/%m/%Y').strftime('%m/%Y')\n",
        "            variacao_percentual = float(registro['valor'])\n",
        "            fator_mensal = 1 + (variacao_percentual / 100)\n",
        "\n",
        "            valor_inicio_mes = valor_acumulado\n",
        "            valor_fim_mes = valor_acumulado * fator_mensal\n",
        "\n",
        "            historico_calculo.append({\n",
        "                'Mês/Ano': data_mes,\n",
        "                'IPCA (%)': variacao_percentual,\n",
        "                'Valor no Início do Mês': valor_inicio_mes,\n",
        "                'Valor Corrigido no Fim do Mês': valor_fim_mes\n",
        "            })\n",
        "\n",
        "            valor_acumulado = valor_fim_mes\n",
        "\n",
        "        # 5. Criar um DataFrame (tabela) com os resultados\n",
        "        tabela_resultado = pd.DataFrame(historico_calculo)\n",
        "        return tabela_resultado\n",
        "\n",
        "    except requests.exceptions.RequestException as e:\n",
        "        print(f\"ERRO: Não foi possível conectar à API do Banco Central. Verifique sua conexão. Detalhe: {e}\")\n",
        "        return None\n",
        "\n",
        "# --- DADOS PARA O CÁLCULO (você pode alterar estes valores) ---\n",
        "valor_para_atualizar = 493.72\n",
        "data_inicio = \"06/2024\"\n",
        "# Usando a data mais recente disponível para garantir que os dados já foram publicados\n",
        "data_fim = \"05/2025\"\n",
        "\n",
        "# --- EXECUÇÃO E EXIBIÇÃO DA TABELA ---\n",
        "tabela_correcao = calcular_tabela_correcao_ipca(valor_para_atualizar, data_inicio, data_fim)\n",
        "\n",
        "if tabela_correcao is not None:\n",
        "    print(\"\\n--- Tabela de Correção Monetária Detalhada (Mês a Mês) ---\")\n",
        "\n",
        "    # Configurar o pandas para formatar os valores monetários na exibição\n",
        "    pd.options.display.float_format = 'R$ {:,.2f}'.format\n",
        "\n",
        "    # O método to_string garante que a tabela seja impressa por completo\n",
        "    print(tabela_correcao.to_string(index=False))\n",
        "\n",
        "    # --- EXIBIÇÃO DO RESUMO FINAL ---\n",
        "    valor_final = tabela_correcao['Valor Corrigido no Fim do Mês'].iloc[-1]\n",
        "    inflacao_total = (valor_final / valor_para_atualizar - 1) * 100\n",
        "\n",
        "    print(\"\\n--- Resumo do Período ---\")\n",
        "    print(f\"Valor Original em {data_inicio}: R$ {valor_para_atualizar:,.2f}\")\n",
        "    print(f\"Valor Final Corrigido para {data_fim}: R$ {valor_final:,.2f}\")\n",
        "    print(f\"Inflação Acumulada no Período: {inflacao_total:.2f}%\")\n",
        "    print(\"-------------------------\")"
      ],
      "execution_count": 3,
      "outputs": [
        {
          "output_type": "stream",
          "name": "stdout",
          "text": [
            "Buscando dados do IPCA entre 06/2024 e 05/2025...\n",
            "\n",
            "--- Tabela de Correção Monetária Detalhada (Mês a Mês) ---\n",
            "Mês/Ano  IPCA (%)  Valor no Início do Mês  Valor Corrigido no Fim do Mês\n",
            "06/2024   R$ 0.21               R$ 493.72                      R$ 494.76\n",
            "07/2024   R$ 0.38               R$ 494.76                      R$ 496.64\n",
            "08/2024  R$ -0.02               R$ 496.64                      R$ 496.54\n",
            "09/2024   R$ 0.44               R$ 496.54                      R$ 498.72\n",
            "10/2024   R$ 0.56               R$ 498.72                      R$ 501.52\n",
            "11/2024   R$ 0.39               R$ 501.52                      R$ 503.47\n",
            "12/2024   R$ 0.52               R$ 503.47                      R$ 506.09\n",
            "01/2025   R$ 0.16               R$ 506.09                      R$ 506.90\n",
            "02/2025   R$ 1.31               R$ 506.90                      R$ 513.54\n",
            "03/2025   R$ 0.56               R$ 513.54                      R$ 516.42\n",
            "04/2025   R$ 0.43               R$ 516.42                      R$ 518.64\n",
            "05/2025   R$ 0.26               R$ 518.64                      R$ 519.98\n",
            "\n",
            "--- Resumo do Período ---\n",
            "Valor Original em 06/2024: R$ 493.72\n",
            "Valor Final Corrigido para 05/2025: R$ 519.98\n",
            "Inflação Acumulada no Período: 5.32%\n",
            "-------------------------\n"
          ]
        }
      ]
    },
    {
      "cell_type": "code",
      "source": [
        "import sys\n",
        "\n",
        "# Defina o nome do arquivo que deseja criar\n",
        "nome_do_arquivo = 'relatorio_correcao_ipca.xlsx'\n",
        "\n",
        "if tabela_correcao is not None and not tabela_correcao.empty:\n",
        "    print(\"\\n--- Gerando arquivo Excel ---\")\n",
        "\n",
        "    # Cria uma cópia para formatar antes de salvar, preservando o original\n",
        "    tabela_para_salvar = tabela_correcao.copy()\n",
        "\n",
        "    # Formata as colunas de valor como texto com 2 casas decimais\n",
        "    # Isso melhora a visualização diretamente no Excel\n",
        "    tabela_para_salvar['Valor no Início do Mês'] = tabela_para_salvar['Valor no Início do Mês'].map('{:.2f}'.format)\n",
        "    tabela_para_salvar['Valor Corrigido no Fim do Mês'] = tabela_para_salvar['Valor Corrigido no Fim do Mês'].map('{:.2f}'.format)\n",
        "\n",
        "    # Verifica se o código está rodando no Google Colab\n",
        "    if 'google.colab' in sys.modules:\n",
        "        # Se estiver no COLAB, usa a biblioteca 'files' para forçar o download\n",
        "        from google.colab import files\n",
        "\n",
        "        print(f\"Ambiente Google Colab detectado. Iniciando download do arquivo '{nome_do_arquivo}'...\")\n",
        "        tabela_para_salvar.to_excel(nome_do_arquivo, index=False, engine='openpyxl')\n",
        "        files.download(nome_do_arquivo)\n",
        "\n",
        "    else:\n",
        "        # Se estiver em um ambiente local (Jupyter, etc.), salva o arquivo na mesma pasta do script\n",
        "        try:\n",
        "            print(f\"Ambiente local detectado. Salvando o arquivo '{nome_do_arquivo}'...\")\n",
        "            tabela_para_salvar.to_excel(nome_do_arquivo, index=False, engine='openpyxl')\n",
        "            print(f\"\\nArquivo salvo com sucesso na mesma pasta onde este script está sendo executado.\")\n",
        "        except Exception as e:\n",
        "            print(f\"\\nOcorreu um erro ao salvar o arquivo: {e}\")\n",
        "            print(\"Verifique se você tem permissão de escrita na pasta ou se o arquivo já está aberto.\")\n",
        "\n",
        "else:\n",
        "    print(\"\\nO DataFrame está vazio ou não foi criado, portanto o arquivo Excel não foi gerado.\")"
      ],
      "metadata": {
        "colab": {
          "base_uri": "https://localhost:8080/",
          "height": 69
        },
        "id": "PZPq3Ow5tXXr",
        "outputId": "0d9097a7-d7cb-4071-e1a3-85cec1b128fc"
      },
      "execution_count": null,
      "outputs": [
        {
          "output_type": "stream",
          "name": "stdout",
          "text": [
            "\n",
            "--- Gerando arquivo Excel ---\n",
            "Ambiente Google Colab detectado. Iniciando download do arquivo 'relatorio_correcao_ipca.xlsx'...\n"
          ]
        },
        {
          "output_type": "display_data",
          "data": {
            "text/plain": [
              "<IPython.core.display.Javascript object>"
            ],
            "application/javascript": [
              "\n",
              "    async function download(id, filename, size) {\n",
              "      if (!google.colab.kernel.accessAllowed) {\n",
              "        return;\n",
              "      }\n",
              "      const div = document.createElement('div');\n",
              "      const label = document.createElement('label');\n",
              "      label.textContent = `Downloading \"${filename}\": `;\n",
              "      div.appendChild(label);\n",
              "      const progress = document.createElement('progress');\n",
              "      progress.max = size;\n",
              "      div.appendChild(progress);\n",
              "      document.body.appendChild(div);\n",
              "\n",
              "      const buffers = [];\n",
              "      let downloaded = 0;\n",
              "\n",
              "      const channel = await google.colab.kernel.comms.open(id);\n",
              "      // Send a message to notify the kernel that we're ready.\n",
              "      channel.send({})\n",
              "\n",
              "      for await (const message of channel.messages) {\n",
              "        // Send a message to notify the kernel that we're ready.\n",
              "        channel.send({})\n",
              "        if (message.buffers) {\n",
              "          for (const buffer of message.buffers) {\n",
              "            buffers.push(buffer);\n",
              "            downloaded += buffer.byteLength;\n",
              "            progress.value = downloaded;\n",
              "          }\n",
              "        }\n",
              "      }\n",
              "      const blob = new Blob(buffers, {type: 'application/binary'});\n",
              "      const a = document.createElement('a');\n",
              "      a.href = window.URL.createObjectURL(blob);\n",
              "      a.download = filename;\n",
              "      div.appendChild(a);\n",
              "      a.click();\n",
              "      div.remove();\n",
              "    }\n",
              "  "
            ]
          },
          "metadata": {}
        },
        {
          "output_type": "display_data",
          "data": {
            "text/plain": [
              "<IPython.core.display.Javascript object>"
            ],
            "application/javascript": [
              "download(\"download_65087c6d-2dac-4929-a9ce-f9cf2a14a56b\", \"relatorio_correcao_ipca.xlsx\", 5576)"
            ]
          },
          "metadata": {}
        }
      ]
    }
  ]
}